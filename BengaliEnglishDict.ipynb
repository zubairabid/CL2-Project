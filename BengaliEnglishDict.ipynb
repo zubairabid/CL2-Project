{
 "cells": [
  {
   "cell_type": "markdown",
   "metadata": {},
   "source": [
    "# Bengali-English Dictionary\n",
    "\n",
    "Creates a dictionary from multiple sources and saves it as a pickle object that can be loaded"
   ]
  },
  {
   "cell_type": "code",
   "execution_count": 2,
   "metadata": {},
   "outputs": [],
   "source": [
    "import pickle"
   ]
  },
  {
   "cell_type": "code",
   "execution_count": 4,
   "metadata": {},
   "outputs": [],
   "source": [
    "tdict = {}"
   ]
  },
  {
   "cell_type": "code",
   "execution_count": 10,
   "metadata": {},
   "outputs": [],
   "source": [
    "def loadDict():\n",
    "    '''\n",
    "    To load the existing dictionary, in case more information is added/as \n",
    "    an example to others writing code\n",
    "    '''\n",
    "    global tdict\n",
    "    with open('filename.pickle', 'rb') as handle:\n",
    "        tdict = pickle.load(handle)"
   ]
  },
  {
   "cell_type": "markdown",
   "metadata": {},
   "source": [
    "## Creating the dictionary\n",
    "\n",
    "The `makedict()` function uses multiple sources - the [existing scraped translation data](https://github.com/zubairabid/CL2-Project/blob/master/tests/filename.pickle), and the English-Bengali Dictionary that [already exists on Github, but is not directly usable](https://github.com/MinhasKamal/BengaliDictionary)."
   ]
  },
  {
   "cell_type": "code",
   "execution_count": 9,
   "metadata": {},
   "outputs": [],
   "source": [
    "def makedict():\n",
    "    '''\n",
    "    Main\n",
    "    '''\n",
    "    loadDict()\n",
    "    \n",
    "    temp = gtransData()\n",
    "    for key in temp:\n",
    "        if key not in tdict:\n",
    "            tdict[key] = temp[key]\n",
    "            \n",
    "    temp = dictData()\n",
    "    for key in temp:\n",
    "        if key not in tdict:\n",
    "            tdict[key] = temp[key]\n"
   ]
  },
  {
   "cell_type": "code",
   "execution_count": 12,
   "metadata": {},
   "outputs": [],
   "source": [
    "def gtransData():\n",
    "    temp = {}\n",
    "    with open('tests/filename.pickle', 'rb') as handle:\n",
    "        tdict = pickle.load(handle)\n",
    "    \n",
    "    return temp"
   ]
  },
  {
   "cell_type": "code",
   "execution_count": null,
   "metadata": {},
   "outputs": [],
   "source": [
    "def dictData():\n",
    "    return {}"
   ]
  }
 ],
 "metadata": {
  "kernelspec": {
   "display_name": "Python 3",
   "language": "python",
   "name": "python3"
  },
  "language_info": {
   "codemirror_mode": {
    "name": "ipython",
    "version": 3
   },
   "file_extension": ".py",
   "mimetype": "text/x-python",
   "name": "python",
   "nbconvert_exporter": "python",
   "pygments_lexer": "ipython3",
   "version": "3.7.3"
  }
 },
 "nbformat": 4,
 "nbformat_minor": 2
}
