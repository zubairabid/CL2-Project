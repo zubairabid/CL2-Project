{
 "cells": [
  {
   "cell_type": "markdown",
   "metadata": {},
   "source": [
    "# Bengali-English Dictionary\n",
    "\n",
    "Creates a dictionary from multiple sources and saves it as a pickle object that can be loaded"
   ]
  },
  {
   "cell_type": "code",
   "execution_count": 1,
   "metadata": {},
   "outputs": [],
   "source": [
    "import pickle\n",
    "import csv\n",
    "\n",
    "from googletrans import Translator"
   ]
  },
  {
   "cell_type": "code",
   "execution_count": 2,
   "metadata": {},
   "outputs": [],
   "source": [
    "tdict = {}"
   ]
  },
  {
   "cell_type": "code",
   "execution_count": 3,
   "metadata": {},
   "outputs": [],
   "source": [
    "def loadDict():\n",
    "    '''\n",
    "    To load the existing dictionary, in case more information is added/as \n",
    "    an example to others writing code\n",
    "    '''\n",
    "    global tdict\n",
    "    with open('bn_en_dict.pickle', 'rb') as handle:\n",
    "        tdict = pickle.load(handle)"
   ]
  },
  {
   "cell_type": "markdown",
   "metadata": {},
   "source": [
    "## Creating the dictionary\n",
    "\n",
    "The `makedict()` function uses multiple sources - the [existing scraped translation data](https://github.com/zubairabid/CL2-Project/blob/master/tests/filename.pickle), and the English-Bengali Dictionary that [already exists on Github, but is not directly usable](https://github.com/MinhasKamal/BengaliDictionary).\n",
    "\n",
    "### Output\n",
    "\n",
    "The dictionary is saved as a pickle object at 'filename.pickle'"
   ]
  },
  {
   "cell_type": "code",
   "execution_count": 4,
   "metadata": {},
   "outputs": [],
   "source": [
    "def makedict():\n",
    "    '''\n",
    "    Main\n",
    "    '''\n",
    "    loadDict()\n",
    "    \n",
    "    temp = gtransData()\n",
    "#     print(temp)\n",
    "    for key in temp:\n",
    "        if key not in tdict:\n",
    "            tdict[key] = temp[key]\n",
    "            \n",
    "    temp = dictData()\n",
    "    for key in temp:\n",
    "        if key not in tdict:\n",
    "            tdict[key] = temp[key]\n",
    "\n",
    "    with open('bn_en_dict.pickle', 'wb') as handle:\n",
    "        pickle.dump(tdict, handle, protocol=pickle.HIGHEST_PROTOCOL)"
   ]
  },
  {
   "cell_type": "markdown",
   "metadata": {},
   "source": [
    "### Google Translate data"
   ]
  },
  {
   "cell_type": "code",
   "execution_count": 5,
   "metadata": {},
   "outputs": [],
   "source": [
    "def gtransData():\n",
    "    '''\n",
    "    Gets \n",
    "    '''\n",
    "    temp = {}\n",
    "    t1 = {}\n",
    "    \n",
    "#     translator = Translator()\n",
    "    \n",
    "    with open('gt.pickle', 'rb') as handle:\n",
    "        t1 = pickle.load(handle)\n",
    "        \n",
    "    for key in t1:\n",
    "        temp[key] = t1[key].text\n",
    "    \n",
    "    return temp\n"
   ]
  },
  {
   "cell_type": "markdown",
   "metadata": {},
   "source": [
    "### Existing Dictionary Data"
   ]
  },
  {
   "cell_type": "code",
   "execution_count": 6,
   "metadata": {},
   "outputs": [],
   "source": [
    "def dictData():\n",
    "    temp = {}\n",
    "    \n",
    "    with open('../RelatedWork/BengaliDictionary/BengaliDictionary_17.txt', 'r') as f1:\n",
    "        csv_reader = csv.reader(f1, delimiter='|')\n",
    "        for row in csv_reader:\n",
    "            if row[1] not in temp:\n",
    "                temp[row[1]] = row[0]\n",
    "            \n",
    "    with open('../RelatedWork/BengaliDictionary/BengaliDictionary_36.csv', 'r') as f1:\n",
    "        csv_reader = csv.reader(f1, delimiter=',')\n",
    "        for row in csv_reader:\n",
    "            c = 0\n",
    "            for element in row:\n",
    "                if c == 0:\n",
    "                    c += 1\n",
    "                else:\n",
    "                    if element not in temp:\n",
    "                        temp[element] = row[0]\n",
    "                        \n",
    "    with open('../RelatedWork/BengaliDictionary/BengaliDictionary_93.csv', 'r') as f1:\n",
    "        csv_reader = csv.reader(f1, delimiter=',')\n",
    "        for row in csv_reader:\n",
    "            if row[1] not in temp:\n",
    "                temp[row[1]] = row[0]\n",
    "\n",
    "    return temp\n",
    "#     return {}\n",
    "                      \n",
    "# len(dictData())"
   ]
  },
  {
   "cell_type": "markdown",
   "metadata": {},
   "source": [
    "## Demonstrating"
   ]
  },
  {
   "cell_type": "code",
   "execution_count": 7,
   "metadata": {},
   "outputs": [
    {
     "ename": "FileNotFoundError",
     "evalue": "[Errno 2] No such file or directory: 'RelatedWork/BengaliDictionary/BengaliDictionary_17.txt'",
     "output_type": "error",
     "traceback": [
      "\u001b[0;31m---------------------------------------------------------------------------\u001b[0m",
      "\u001b[0;31mFileNotFoundError\u001b[0m                         Traceback (most recent call last)",
      "\u001b[0;32m<ipython-input-7-17599da10308>\u001b[0m in \u001b[0;36m<module>\u001b[0;34m\u001b[0m\n\u001b[0;32m----> 1\u001b[0;31m \u001b[0mmakedict\u001b[0m\u001b[0;34m(\u001b[0m\u001b[0;34m)\u001b[0m\u001b[0;34m\u001b[0m\u001b[0;34m\u001b[0m\u001b[0m\n\u001b[0m\u001b[1;32m      2\u001b[0m \u001b[0mprint\u001b[0m\u001b[0;34m(\u001b[0m\u001b[0mlen\u001b[0m\u001b[0;34m(\u001b[0m\u001b[0mtdict\u001b[0m\u001b[0;34m)\u001b[0m\u001b[0;34m)\u001b[0m\u001b[0;34m\u001b[0m\u001b[0;34m\u001b[0m\u001b[0m\n\u001b[1;32m      3\u001b[0m \u001b[0mtdict\u001b[0m\u001b[0;34m\u001b[0m\u001b[0;34m\u001b[0m\u001b[0m\n",
      "\u001b[0;32m<ipython-input-4-6eac0d4bbeb0>\u001b[0m in \u001b[0;36mmakedict\u001b[0;34m()\u001b[0m\n\u001b[1;32m     11\u001b[0m             \u001b[0mtdict\u001b[0m\u001b[0;34m[\u001b[0m\u001b[0mkey\u001b[0m\u001b[0;34m]\u001b[0m \u001b[0;34m=\u001b[0m \u001b[0mtemp\u001b[0m\u001b[0;34m[\u001b[0m\u001b[0mkey\u001b[0m\u001b[0;34m]\u001b[0m\u001b[0;34m\u001b[0m\u001b[0;34m\u001b[0m\u001b[0m\n\u001b[1;32m     12\u001b[0m \u001b[0;34m\u001b[0m\u001b[0m\n\u001b[0;32m---> 13\u001b[0;31m     \u001b[0mtemp\u001b[0m \u001b[0;34m=\u001b[0m \u001b[0mdictData\u001b[0m\u001b[0;34m(\u001b[0m\u001b[0;34m)\u001b[0m\u001b[0;34m\u001b[0m\u001b[0;34m\u001b[0m\u001b[0m\n\u001b[0m\u001b[1;32m     14\u001b[0m     \u001b[0;32mfor\u001b[0m \u001b[0mkey\u001b[0m \u001b[0;32min\u001b[0m \u001b[0mtemp\u001b[0m\u001b[0;34m:\u001b[0m\u001b[0;34m\u001b[0m\u001b[0;34m\u001b[0m\u001b[0m\n\u001b[1;32m     15\u001b[0m         \u001b[0;32mif\u001b[0m \u001b[0mkey\u001b[0m \u001b[0;32mnot\u001b[0m \u001b[0;32min\u001b[0m \u001b[0mtdict\u001b[0m\u001b[0;34m:\u001b[0m\u001b[0;34m\u001b[0m\u001b[0;34m\u001b[0m\u001b[0m\n",
      "\u001b[0;32m<ipython-input-6-a1b8191d9064>\u001b[0m in \u001b[0;36mdictData\u001b[0;34m()\u001b[0m\n\u001b[1;32m      2\u001b[0m     \u001b[0mtemp\u001b[0m \u001b[0;34m=\u001b[0m \u001b[0;34m{\u001b[0m\u001b[0;34m}\u001b[0m\u001b[0;34m\u001b[0m\u001b[0;34m\u001b[0m\u001b[0m\n\u001b[1;32m      3\u001b[0m \u001b[0;34m\u001b[0m\u001b[0m\n\u001b[0;32m----> 4\u001b[0;31m     \u001b[0;32mwith\u001b[0m \u001b[0mopen\u001b[0m\u001b[0;34m(\u001b[0m\u001b[0;34m'RelatedWork/BengaliDictionary/BengaliDictionary_17.txt'\u001b[0m\u001b[0;34m,\u001b[0m \u001b[0;34m'r'\u001b[0m\u001b[0;34m)\u001b[0m \u001b[0;32mas\u001b[0m \u001b[0mf1\u001b[0m\u001b[0;34m:\u001b[0m\u001b[0;34m\u001b[0m\u001b[0;34m\u001b[0m\u001b[0m\n\u001b[0m\u001b[1;32m      5\u001b[0m         \u001b[0mcsv_reader\u001b[0m \u001b[0;34m=\u001b[0m \u001b[0mcsv\u001b[0m\u001b[0;34m.\u001b[0m\u001b[0mreader\u001b[0m\u001b[0;34m(\u001b[0m\u001b[0mf1\u001b[0m\u001b[0;34m,\u001b[0m \u001b[0mdelimiter\u001b[0m\u001b[0;34m=\u001b[0m\u001b[0;34m'|'\u001b[0m\u001b[0;34m)\u001b[0m\u001b[0;34m\u001b[0m\u001b[0;34m\u001b[0m\u001b[0m\n\u001b[1;32m      6\u001b[0m         \u001b[0;32mfor\u001b[0m \u001b[0mrow\u001b[0m \u001b[0;32min\u001b[0m \u001b[0mcsv_reader\u001b[0m\u001b[0;34m:\u001b[0m\u001b[0;34m\u001b[0m\u001b[0;34m\u001b[0m\u001b[0m\n",
      "\u001b[0;31mFileNotFoundError\u001b[0m: [Errno 2] No such file or directory: 'RelatedWork/BengaliDictionary/BengaliDictionary_17.txt'"
     ]
    }
   ],
   "source": [
    "makedict()\n",
    "print(len(tdict))\n",
    "tdict"
   ]
  },
  {
   "cell_type": "code",
   "execution_count": null,
   "metadata": {},
   "outputs": [],
   "source": [
    "tdict['করিনি']"
   ]
  }
 ],
 "metadata": {
  "kernelspec": {
   "display_name": "Python 3",
   "language": "python",
   "name": "python3"
  },
  "language_info": {
   "codemirror_mode": {
    "name": "ipython",
    "version": 3
   },
   "file_extension": ".py",
   "mimetype": "text/x-python",
   "name": "python",
   "nbconvert_exporter": "python",
   "pygments_lexer": "ipython3",
   "version": "3.7.3"
  }
 },
 "nbformat": 4,
 "nbformat_minor": 2
}
